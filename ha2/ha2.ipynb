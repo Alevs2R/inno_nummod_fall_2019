{
  "nbformat": 4,
  "nbformat_minor": 0,
  "metadata": {
    "kernelspec": {
      "display_name": "Python 3",
      "language": "python",
      "name": "python3"
    },
    "language_info": {
      "codemirror_mode": {
        "name": "ipython",
        "version": 3
      },
      "file_extension": ".py",
      "mimetype": "text/x-python",
      "name": "python",
      "nbconvert_exporter": "python",
      "pygments_lexer": "ipython3",
      "version": "3.6.8"
    },
    "colab": {
      "name": "ha2.ipynb",
      "version": "0.3.2",
      "provenance": []
    }
  },
  "cells": [
    {
      "cell_type": "code",
      "metadata": {
        "id": "7iCWvHvW4LSR",
        "colab_type": "code",
        "colab": {}
      },
      "source": [
        "import sympy as sp\n",
        "import numpy as np\n",
        "import matplotlib.pyplot as plt"
      ],
      "execution_count": 0,
      "outputs": []
    },
    {
      "cell_type": "markdown",
      "metadata": {
        "id": "fElt0psJ4LST",
        "colab_type": "text"
      },
      "source": [
        "### 1. Formulate the statement of the interpolation problem with Cubic Spline [mathematical formula]"
      ]
    },
    {
      "cell_type": "markdown",
      "metadata": {
        "id": "i3bi5XRgYois",
        "colab_type": "text"
      },
      "source": [
        "There is a grid $\\Omega_n = \\{x_i, i = \\overline{0, n}\\}$\n",
        "\n",
        "Each grid characterized by steps $h_{i+1} = x_{i+1}-x_i$, that can be either equal constants or not. \n",
        "\n",
        "Function $y_i = f(x_i),\\  x_i \\in [a,b],\\ i = \\overline{0,n} $ is defined only in this grid.\n",
        "\n",
        "It is needed to find a function that has values in all $x \\in [a,b]$ and also 1st and 2nd derivatives in grid points ($x_i$)\n",
        "\n",
        "To approximate function $y_i$ in this problem we use algebraic polynomials\n",
        "$$ \\tilde{y} = \\tilde{f}_m(x,\\overline{a}) = \\sum_{j=0}^{m}a_j x^j $$\n",
        "\n",
        "where $\\overline{a} = (a_0,a_1,\\dots,a_m)^T$ is a vector of unknown parameters and $m$ is the degree of polynomial\n",
        "\n",
        "Spline is a function $S_m(x) = \\cup_{i=0}^{n-1}S_{m,i}(x)$ that defined on $[a,b]$ and has smoothness class $C_r[a,b]$\n",
        "\n",
        "We perform interpolation and it means that $S_m(x) = f(x)$ in the grid points.\n",
        "\n",
        "Cubic spline $S_3(x)$ has degree $m = 3$ and defect $q = 1$. \n",
        "\n",
        "$$S_3(x) \\in C_2[a,b]$$\n",
        "\n",
        "\n",
        "\n"
      ]
    },
    {
      "cell_type": "markdown",
      "metadata": {
        "id": "J-YL4JM04LSW",
        "colab_type": "text"
      },
      "source": [
        "### 2. Formulate the functional and differential compatibility conditions [mathematical formula]"
      ]
    },
    {
      "cell_type": "markdown",
      "metadata": {
        "id": "mfOHvJJG8fQD",
        "colab_type": "text"
      },
      "source": [
        "$$\\delta S_{3,i}(x)|_{x=x_i} = S_{3,i}(x_i) - f(x_i) = 0$$\n",
        "$$\\delta S_{3,i}(x)|_{x=x_i+1} = S_{3,i}(x_{i+1}) - f(x_{i+1}) = 0$$\n",
        "$$\\delta S_{3,i}^{''}(x)|_{x=x_i} = S_{3,i}^{''}(x_i) - f^{''}(x_i) = 0$$\n",
        "$$\\delta S_{3,i}^{''}(x)|_{x=x_i+1} = S_{3,i}^{''}(x_{i+1}) - f^{''}(x_{i+1}) = 0$$\n",
        "\n",
        "\n",
        "\n",
        "\n",
        "\n",
        "\n"
      ]
    },
    {
      "cell_type": "markdown",
      "metadata": {
        "id": "YxqP5Zvp4LSZ",
        "colab_type": "text"
      },
      "source": [
        "### 3. Formulate stitching conditions [mathematical formula]"
      ]
    },
    {
      "cell_type": "markdown",
      "metadata": {
        "id": "plnFYhMxUJUs",
        "colab_type": "text"
      },
      "source": [
        "$$ S_{3,i-1}(x_i) = S_{3,i}(x_i),\\ i=\\overline{1,n-1} $$\n",
        "$$ S_{3,i-1}^{'}(x_i) = S_{3,i}^{'}(x_i),\\ i=\\overline{1,n-1} $$\n",
        "$$ S_{3,i-1}^{''}(x_i) = S_{3,i}^{''}(x_i),\\ i=\\overline{1,n-1} $$"
      ]
    },
    {
      "cell_type": "markdown",
      "metadata": {
        "id": "7erfTmmc4LSb",
        "colab_type": "text"
      },
      "source": [
        "### 4. Justify why these conditions provide you with the required smoothness [thesis text, no more than 500 characters]"
      ]
    },
    {
      "cell_type": "markdown",
      "metadata": {
        "id": "RtfOkxr0_yxs",
        "colab_type": "text"
      },
      "source": [
        "Stiching conditions together with differential compatibility conditions provide the continuity of $S_3^{(p)}(x),\\ p = 0,1,2$ in $ x \\in \\Omega_n$\n",
        "\n",
        "It guarantees the condition $S_3(x) \\in C_2[a,b]$"
      ]
    },
    {
      "cell_type": "markdown",
      "metadata": {
        "id": "5w2xk1Tq4LSe",
        "colab_type": "text"
      },
      "source": [
        "### 5. Derive dependency formula: the dependence of the second derivatives at the grid nodes on the increment of the function (the function values difference on the grid nodes). [Mathematical formulas derivation. Detailed, with clear transitions]"
      ]
    },
    {
      "cell_type": "markdown",
      "metadata": {
        "id": "qc0mUe0r5K4u",
        "colab_type": "text"
      },
      "source": [
        "We have $S_{3,i}(x) = a_{0,i} + a_{1,i}(x - x_i) + a_{2,i}(x-x_i)^2 + a_{3,i}(x-x_i)^3$\n",
        "\n",
        "Substitite it into compatibility conditions\n",
        "\n",
        "$ a_{0,i} - f(x_i) = 0 $\n",
        "\n",
        "$ a_{0,i} + a_{1,i}(x_{i+1} - x_i) + a_{2,i}(x_{i+1}-x_i)^2 + a_{3,i}(x_{i+1} - x_i)^3 - f(x_{i+1}) = 0 $\n",
        "\n",
        "$ 2 a_{2,i} - f^{''}(x) = 0 $\n",
        "\n",
        "$ 2 a_{2,i} + 6 a_{3,i} (x_{i+1} - x_i) - f^{''}(x+1) = 0 $\n",
        "\n",
        "Replace $h_{i+1} = x_{i+1}-x_i,\\ m_i = f^{''}(x_i),\\ \\Delta f_i = f_{i+1} - f_{i},\\ \\Delta m_{i} = m_{i+1} - m_i$\n",
        "\n",
        "We have 4 equations and 4 unknown variables. Find $a_{k,i}$ and substitute back\n",
        "\n",
        "$ S_{3,i}(x) = f_i + (\\frac{1}{h_{i+1}}\\Delta f_i - \\frac{h_{i+1}}{6} \\Delta m_i) (x - x_i) + \\frac{m_i}{2} (x-x_i)^2 + \\frac{1}{6 h_{i+1}} \\Delta m_i (x-x_i)^3$\n",
        "\n",
        "Now lets rewrite stiching condition $S_{3,i-1}^{'}(x_i) = S_{3,i}^{'}(x_i)$\n",
        "\n",
        "$$ a_{1,i} = a_{1,i-1} + 2a_{2,i-1} (x_i-x_{i-1}) + 3a_{3,i-1}(x_i-x_{i-1})^2 $$\n",
        "\n",
        "finally by substiting found coefficients we get\n",
        "\n",
        "$$ \\frac{m_{i-1} h_i}{6} + \\frac{h_i + h_{i+1}}{3}m_i + \\frac{h_{i+1}}{6}m_{i+1} = \\frac{\\Delta f_i}{h_{i+1}} - \\frac{\\Delta f_{i-1}}{h_{i}}$$\n",
        "\n"
      ]
    },
    {
      "cell_type": "markdown",
      "metadata": {
        "id": "Ih16yIde4LSj",
        "colab_type": "text"
      },
      "source": [
        "### 6. Create a system of equations using this formula [Matrix representation. Mathematical formulas]"
      ]
    },
    {
      "cell_type": "markdown",
      "metadata": {
        "id": "nrDhoW6qZzkg",
        "colab_type": "text"
      },
      "source": [
        "By iterating over $i$ from $1$ to $n-1$ we get\n",
        "\n",
        "\\begin{bmatrix}\n",
        "\\frac{h_1+h_2}{3} & \\frac{h_2}{6}     & 0                 & \\dots & 0   & 0  & 0 \n",
        "& \\frac{\\Delta f_1}{h_2} - \\frac{\\Delta f_0}{h_1} \\\\ \n",
        "\\frac{h_2}{6}     & \\frac{h_2+h_3}{3} & \\frac{h_3}{6}     & \\dots & 0   & 0  & 0   \n",
        "& \\frac{\\Delta f_2}{h_3} - \\frac{\\Delta f_1}{h_2} \\\\\n",
        "\\dots             & \\dots             & \\dots             & \\dots & \\dots & \\dots & \\dots & \\dots \\\\\n",
        "0 & \\dots & \\frac{h_i}{6} & \\frac{h_i+h_{i+1}}{3} & \\frac{h_{i+1}}{6} & \\dots  & 0\n",
        "& \\frac{\\Delta f_i}{h_{i+1}} - \\frac{\\Delta f_{i-1}}{h_i} \\\\\n",
        "\\dots             & \\dots             & \\dots             & \\dots & \\dots & \\dots & \\dots & \\dots \\\\\n",
        "0                 & 0        & 0         & 0                 & \\dots & \\frac{h_{n-1}}{6} & \\frac{h_{n-1}+h_n}{3}\n",
        "& \\frac{\\Delta f_{n-1}}{h_n} - \\frac{\\Delta f_{n-2}}{h_{n-1}},\n",
        "\\end{bmatrix}"
      ]
    },
    {
      "cell_type": "code",
      "metadata": {
        "id": "qQyoXxzg4LSl",
        "colab_type": "code",
        "colab": {}
      },
      "source": [
        ""
      ],
      "execution_count": 0,
      "outputs": []
    },
    {
      "cell_type": "markdown",
      "metadata": {
        "id": "4lgMIC8D4LSo",
        "colab_type": "text"
      },
      "source": [
        "### 7. Explain what is an unknown variable in this system. whether the system is closed with respect to an unknown variable. What is missing for closure. [Text, no more than 200 characters]"
      ]
    },
    {
      "cell_type": "markdown",
      "metadata": {
        "id": "Ng3AuWhYA7sS",
        "colab_type": "text"
      },
      "source": [
        "There are $n+1$ unknown variables $m_i,\\ i = \\overline{0, n}$ (values of 2nd derivative).\n",
        "\n",
        "But we have only $n-1$ equations \n",
        "\n",
        "It means that system is not closed and we need 2 more equations. \n",
        "\n",
        "It can be solved by adding conditions of natural spline $m_0 = 0$ and $m_n = 0$"
      ]
    },
    {
      "cell_type": "markdown",
      "metadata": {
        "id": "sWHLjAwH4LSu",
        "colab_type": "text"
      },
      "source": [
        "### 8. Bring this matrix to the appropriate form to use the Tridiagonal matrix algorithm [Mathematical derivation. Use Gauss Elimination]"
      ]
    },
    {
      "cell_type": "markdown",
      "metadata": {
        "id": "bmbKYJcEHchR",
        "colab_type": "text"
      },
      "source": [
        "We need the matrix in this form\n",
        "\n",
        "\\begin{pmatrix}\n",
        "    1 & -P_1  & 0 & 0 & \\dots & Q_1 \\\\\n",
        "    0 & 1 & -P_2 & 0 & \\dots  & Q_2 \\\\\n",
        "    0 & 0 & 1 & -P_3  & \\dots& Q_3 \\\\\n",
        "    \\dots & \\dots & \\dots & \\dots  & \\dots & \\dots \\\\\n",
        "    0 & 0 & 0 & 1  & \\dots  & Q_n \\\\\n",
        "\\end{pmatrix}\n",
        "\n",
        "Step 1: \n",
        "Take the matrix from task 6. This is the first row:\n",
        "\n",
        "$$ \\begin{bmatrix}\n",
        "\\frac{h_1+h_2}{3} & \\frac{h_2}{6}     & 0                 & \\dots  & 0 \n",
        "& \\frac{\\Delta f_1}{h_2} - \\frac{\\Delta f_0}{h_1}\n",
        "\\end{bmatrix} \n",
        "$$ \n",
        "\n",
        "\n",
        "divide it by $\\frac{h_1+h_2}{3}$ to get $1$ in first column. Result: \n",
        "\n",
        "\\begin{bmatrix}\n",
        "    1 & \\frac{h_2}{2(h_1+h_2)} & 0 & \\dots & 0 & (\\frac{\\Delta f_1}{h_2} - \\frac{\\Delta f_0}{h_1})\\frac{3}{h_1+h_2}\n",
        "\\end{bmatrix}\n",
        "\n",
        "$P_1 = $\n",
        "\n",
        "Step 2: substract first row multiplied by $A_{21} = \\frac{h_2}{6}$ from second to get zero in $A_{21}$. Now second row will look like this:\n",
        "\n",
        "\\begin{bmatrix}\n",
        "    0 & \\frac{-h_2^2 + 4(h_1+h_2)(h_2+h_3)}{12(h_1+h_2)} & \\frac{h_3}{6} & \\dots & 0 & \\frac{2(\\Delta f_2 h_2 - \\Delta f_1 h_3)h_1(h_1+h_2) - (\\Delta f_1 h_1 - \\Delta f_0 h_2)h_2 h_3}{2 h_1 h_2 h_3 (h_1 + h_2)}\n",
        "\\end{bmatrix}"
      ]
    },
    {
      "cell_type": "markdown",
      "metadata": {
        "id": "XFD4n5IM4LSy",
        "colab_type": "text"
      },
      "source": [
        "### 9. Derive formulas of direct pass and reverse pass of Tridiagonal matrix algorithm [Mathematical formals]"
      ]
    },
    {
      "cell_type": "code",
      "metadata": {
        "id": "8rAP15Ov4LSz",
        "colab_type": "code",
        "colab": {}
      },
      "source": [
        "### YOUR TEXT/CODE HERE\n",
        "\n",
        "\n",
        "\n",
        "\n",
        "\n",
        "\n",
        "\n",
        "\n"
      ],
      "execution_count": 0,
      "outputs": []
    },
    {
      "cell_type": "markdown",
      "metadata": {
        "id": "hjJpgaej4LS1",
        "colab_type": "text"
      },
      "source": [
        "### 10. Implement code prototype of the future algorithm implementation. Classes/methods (if you use OOP), functions. The final implementation (on language chosen by you) should not differ from the functions declared in the prototype. [Python code]"
      ]
    },
    {
      "cell_type": "code",
      "metadata": {
        "id": "ZHjwQvNQ4LS2",
        "colab_type": "code",
        "colab": {}
      },
      "source": [
        "### YOUR CODE HERE\n",
        "\n",
        "\n",
        "\n",
        "\n",
        "\n",
        "\n",
        "\n",
        "\n"
      ],
      "execution_count": 0,
      "outputs": []
    },
    {
      "cell_type": "markdown",
      "metadata": {
        "id": "tDLxK2O94LS4",
        "colab_type": "text"
      },
      "source": [
        "### 11. Derive formula of Cubic Spline method error [Mathematical formulas]"
      ]
    },
    {
      "cell_type": "code",
      "metadata": {
        "id": "ee0yio9m4LS4",
        "colab_type": "code",
        "colab": {}
      },
      "source": [
        "### YOUR TEXT/CODE HERE\n",
        "\n",
        "\n",
        "\n",
        "\n",
        "\n",
        "\n",
        "\n",
        "\n"
      ],
      "execution_count": 0,
      "outputs": []
    },
    {
      "cell_type": "markdown",
      "metadata": {
        "id": "oM63Y6uj4LS6",
        "colab_type": "text"
      },
      "source": [
        "### 12. Rate the complexity of the algorithm [Text, and rate in terms of big O, no more than 100 characters]"
      ]
    },
    {
      "cell_type": "code",
      "metadata": {
        "id": "qksvYQmI4LS7",
        "colab_type": "code",
        "colab": {}
      },
      "source": [
        "### YOUR TEXT/CODE HERE\n",
        "\n",
        "\n",
        "\n",
        "\n",
        "\n",
        "\n",
        "\n",
        "\n"
      ],
      "execution_count": 0,
      "outputs": []
    },
    {
      "cell_type": "markdown",
      "metadata": {
        "id": "ZGOJeak-4LS8",
        "colab_type": "text"
      },
      "source": [
        "### Congrats!"
      ]
    }
  ]
}